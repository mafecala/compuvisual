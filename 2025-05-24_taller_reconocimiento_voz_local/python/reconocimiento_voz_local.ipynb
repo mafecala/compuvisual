{
 "cells": [
  {
   "cell_type": "code",
   "execution_count": null,
   "id": "4e66bd47",
   "metadata": {},
   "outputs": [],
   "source": [
    "import tkinter as tk\n",
    "import threading\n",
    "import speech_recognition as sr\n",
    "import pyttsx3"
   ]
  },
  {
   "cell_type": "code",
   "execution_count": null,
   "id": "85906b97",
   "metadata": {},
   "outputs": [],
   "source": [
    "# Inicializar motor de voz\n",
    "engine = pyttsx3.init()\n",
    "engine.setProperty(\"rate\", 150)"
   ]
  },
  {
   "cell_type": "code",
   "execution_count": null,
   "id": "73f9fecb",
   "metadata": {},
   "outputs": [],
   "source": [
    "def hablar(mensaje):\n",
    "    engine.say(mensaje)\n",
    "    engine.runAndWait()"
   ]
  },
  {
   "cell_type": "code",
   "execution_count": null,
   "id": "508a63b2",
   "metadata": {},
   "outputs": [],
   "source": [
    "# Diccionario de comandos\n",
    "comandos = {\n",
    "    \"red\": \"red\",\n",
    "    \"blue\": \"blue\",\n",
    "    \"start\": \"green\",\n",
    "    \"stop\": \"gray\",\n",
    "    \"rotate\": \"yellow\",\n",
    "}"
   ]
  },
  {
   "cell_type": "code",
   "execution_count": null,
   "id": "3622ec8b",
   "metadata": {},
   "outputs": [],
   "source": [
    "class App:\n",
    "    def __init__(self):\n",
    "        self.root = tk.Tk()\n",
    "        self.root.title(\"Comandos por Voz\")\n",
    "        self.root.geometry(\"400x300\")\n",
    "        self.canvas = tk.Canvas(self.root, width=400, height=300, bg=\"white\")\n",
    "        self.canvas.pack()\n",
    "        self.label = tk.Label(\n",
    "            self.root, text=\"Esperando comando...\", font=(\"Arial\", 14)\n",
    "        )\n",
    "        self.label.pack()\n",
    "        self.root.after(1000, self.iniciar_reconocimiento_en_hilo)\n",
    "        self.root.mainloop()\n",
    "\n",
    "    def actualizar(self, color, texto):\n",
    "        self.canvas.config(bg=color)\n",
    "        self.label.config(text=f\"Comando: {texto}\")\n",
    "        hablar(f\"Ejecutando comando {texto}\")\n",
    "\n",
    "    def iniciar_reconocimiento_en_hilo(self):\n",
    "        threading.Thread(target=self.reconocer_comando).start()\n",
    "        self.root.after(5000, self.iniciar_reconocimiento_en_hilo)\n",
    "\n",
    "    def reconocer_comando(self):\n",
    "        r = sr.Recognizer()\n",
    "        with sr.Microphone() as mic:\n",
    "            print(\"🎤 Escuchando...\")\n",
    "            try:\n",
    "                audio = r.listen(mic, timeout=4)\n",
    "                texto = r.recognize_sphinx(audio)\n",
    "                print(f\"🔍 Reconocido: {texto}\")\n",
    "                for comando in comandos:\n",
    "                    if comando in texto:\n",
    "                        self.actualizar(comandos[comando], comando)\n",
    "                        return\n",
    "                self.label.config(text=\"Comando no reconocido\")\n",
    "                hablar(\"No entendí el comando\")\n",
    "            except sr.WaitTimeoutError:\n",
    "                print(\"⌛ Tiempo agotado\")\n",
    "            except sr.UnknownValueError:\n",
    "                print(\"❌ No entendí lo que dijiste\")"
   ]
  },
  {
   "cell_type": "code",
   "execution_count": null,
   "id": "e6694f2c",
   "metadata": {},
   "outputs": [],
   "source": [
    "# Ejecutar\n",
    "if __name__ == \"__main__\":\n",
    "    App()"
   ]
  }
 ],
 "metadata": {
  "jupytext": {
   "cell_metadata_filter": "-all",
   "main_language": "python",
   "notebook_metadata_filter": "-all"
  }
 },
 "nbformat": 4,
 "nbformat_minor": 5
}
